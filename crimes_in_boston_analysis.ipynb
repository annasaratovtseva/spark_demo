{
 "cells": [
  {
   "cell_type": "code",
   "execution_count": 1,
   "metadata": {},
   "outputs": [
    {
     "name": "stdout",
     "output_type": "stream",
     "text": [
      "Defaulting to user installation because normal site-packages is not writeable\n",
      "Requirement already satisfied: findspark in ./.local/lib/python3.8/site-packages (2.0.1)\n",
      "Requirement already satisfied: pandas in /opt/conda/lib/python3.8/site-packages (1.1.3)\n",
      "Requirement already satisfied: pytz>=2017.2 in /opt/conda/lib/python3.8/site-packages (from pandas) (2024.1)\n",
      "Requirement already satisfied: numpy>=1.15.4 in /opt/conda/lib/python3.8/site-packages (from pandas) (1.19.2)\n",
      "Requirement already satisfied: python-dateutil>=2.7.3 in /opt/conda/lib/python3.8/site-packages (from pandas) (2.9.0.post0)\n",
      "Requirement already satisfied: six>=1.5 in /opt/conda/lib/python3.8/site-packages (from python-dateutil>=2.7.3->pandas) (1.16.0)\n",
      "Note: you may need to restart the kernel to use updated packages.\n"
     ]
    }
   ],
   "source": [
    "%pip install findspark pandas"
   ]
  },
  {
   "cell_type": "code",
   "execution_count": 2,
   "metadata": {},
   "outputs": [],
   "source": [
    "import findspark\n",
    "findspark.init()"
   ]
  },
  {
   "cell_type": "code",
   "execution_count": 3,
   "metadata": {},
   "outputs": [],
   "source": [
    "from pyspark.sql import SparkSession\n",
    "from pyspark.sql.functions import *\n",
    "from pyspark.sql.types import *\n",
    "import pandas as pd\n",
    "import argparse"
   ]
  },
  {
   "cell_type": "code",
   "execution_count": 4,
   "metadata": {},
   "outputs": [],
   "source": [
    "# Получение путей до папки с исходными данными (input_folder) и папки с результатом (output_folder), введённых при запуске Spark-приложения через spark-submit\n",
    "#parser = argparse.ArgumentParser()\n",
    "#parser.add_argument(\"input_folder\", help = \"Path to the folder with input files offense_codes.csv, crime.csv\")\n",
    "#parser.add_argument(\"output_folder\", help = \"Path to the folder with output file crimes_in_boston_analysis.parquet\")\n",
    "#args = parser.parse_args()"
   ]
  },
  {
   "cell_type": "code",
   "execution_count": 5,
   "metadata": {},
   "outputs": [],
   "source": [
    "# Создание SparkSession\n",
    "spark = (SparkSession\n",
    "    .builder\n",
    "    .appName(\"Crimes in Boston - Analysis\")\n",
    "    .master(\"local[*]\")\n",
    "    .getOrCreate()\n",
    ")"
   ]
  },
  {
   "cell_type": "code",
   "execution_count": 6,
   "metadata": {},
   "outputs": [
    {
     "name": "stdout",
     "output_type": "stream",
     "text": [
      "+----+------------------------------------------+\n",
      "|CODE|NAME                                      |\n",
      "+----+------------------------------------------+\n",
      "|612 |LARCENY PURSE SNATCH - NO FORCE           |\n",
      "|613 |LARCENY SHOPLIFTING                       |\n",
      "|615 |LARCENY THEFT OF MV PARTS & ACCESSORIES   |\n",
      "|1731|INCEST                                    |\n",
      "|3111|LICENSE PREMISE VIOLATION                 |\n",
      "|2646|LIQUOR - DRINKING IN PUBLIC               |\n",
      "|2204|LIQUOR LAW VIOLATION                      |\n",
      "|3810|M/V ACCIDENT - INVOLVING �BICYCLE - INJURY|\n",
      "|3801|M/V ACCIDENT - OTHER                      |\n",
      "|3807|M/V ACCIDENT - OTHER CITY VEHICLE         |\n",
      "|3803|M/V ACCIDENT - PERSONAL INJURY            |\n",
      "|3805|M/V ACCIDENT - POLICE VEHICLE             |\n",
      "|3802|M/V ACCIDENT - PROPERTY �DAMAGE           |\n",
      "|3205|M/V PLATES - LOST                         |\n",
      "|123 |MANSLAUGHTER - NON-VEHICLE - NEGLIGENCE   |\n",
      "|121 |MANSLAUGHTER - VEHICLE - NEGLIGENCE       |\n",
      "|3501|MISSING PERSON                            |\n",
      "|3502|MISSING PERSON - LOCATED                  |\n",
      "|3503|MISSING PERSON - NOT REPORTED - LOCATED   |\n",
      "|111 |MURDER, NON-NEGLIGIENT MANSLAUGHTER       |\n",
      "+----+------------------------------------------+\n",
      "only showing top 20 rows\n",
      "\n"
     ]
    }
   ],
   "source": [
    "# Чтение данных из справочника кодов преступлений\n",
    "#offense_codes_df = spark.read.csv(args.input_folder + \"/offense_codes.csv\", header = True, inferSchema = True)\n",
    "offense_codes_df = spark.read.csv(\"path/to/input/offense_codes.csv\", header = True, inferSchema = True)\n",
    "offense_codes_df.show(truncate = False)"
   ]
  },
  {
   "cell_type": "code",
   "execution_count": 7,
   "metadata": {},
   "outputs": [
    {
     "name": "stdout",
     "output_type": "stream",
     "text": [
      "root\n",
      " |-- CODE: integer (nullable = true)\n",
      " |-- NAME: string (nullable = true)\n",
      "\n"
     ]
    }
   ],
   "source": [
    "# Информация о схеме\n",
    "offense_codes_df.printSchema()"
   ]
  },
  {
   "cell_type": "code",
   "execution_count": 8,
   "metadata": {},
   "outputs": [
    {
     "name": "stdout",
     "output_type": "stream",
     "text": [
      "+---------------+------------+--------------------------------+------------------------------------------+--------+--------------+--------+-------------------+----+-----+-----------+----+----------+-----------------+-----------+------------+---------------------------+\n",
      "|INCIDENT_NUMBER|OFFENSE_CODE|OFFENSE_CODE_GROUP              |OFFENSE_DESCRIPTION                       |DISTRICT|REPORTING_AREA|SHOOTING|OCCURRED_ON_DATE   |YEAR|MONTH|DAY_OF_WEEK|HOUR|UCR_PART  |STREET           |Lat        |Long        |Location                   |\n",
      "+---------------+------------+--------------------------------+------------------------------------------+--------+--------------+--------+-------------------+----+-----+-----------+----+----------+-----------------+-----------+------------+---------------------------+\n",
      "|I182070945     |619         |Larceny                         |LARCENY ALL OTHERS                        |D14     |808           |null    |2018-09-02 13:00:00|2018|9    |Sunday     |13  |Part One  |LINCOLN ST       |42.35779134|-71.13937053|(42.35779134, -71.13937053)|\n",
      "|I182070943     |1402        |Vandalism                       |VANDALISM                                 |C11     |347           |null    |2018-08-21 00:00:00|2018|8    |Tuesday    |0   |Part Two  |HECLA ST         |42.30682138|-71.06030035|(42.30682138, -71.06030035)|\n",
      "|I182070941     |3410        |Towed                           |TOWED MOTOR VEHICLE                       |D4      |151           |null    |2018-09-03 19:27:00|2018|9    |Monday     |19  |Part Three|CAZENOVE ST      |42.34658879|-71.07242943|(42.34658879, -71.07242943)|\n",
      "|I182070940     |3114        |Investigate Property            |INVESTIGATE PROPERTY                      |D4      |272           |null    |2018-09-03 21:16:00|2018|9    |Monday     |21  |Part Three|NEWCOMB ST       |42.33418175|-71.07866441|(42.33418175, -71.07866441)|\n",
      "|I182070938     |3114        |Investigate Property            |INVESTIGATE PROPERTY                      |B3      |421           |null    |2018-09-03 21:05:00|2018|9    |Monday     |21  |Part Three|DELHI ST         |42.27536542|-71.09036101|(42.27536542, -71.09036101)|\n",
      "|I182070936     |3820        |Motor Vehicle Accident Response |M/V ACCIDENT INVOLVING PEDESTRIAN - INJURY|C11     |398           |null    |2018-09-03 21:09:00|2018|9    |Monday     |21  |Part Three|TALBOT AVE       |42.29019621|-71.07159012|(42.29019621, -71.07159012)|\n",
      "|I182070933     |724         |Auto Theft                      |AUTO THEFT                                |B2      |330           |null    |2018-09-03 21:25:00|2018|9    |Monday     |21  |Part One  |NORMANDY ST      |42.30607218|-71.0827326 |(42.30607218, -71.08273260)|\n",
      "|I182070932     |3301        |Verbal Disputes                 |VERBAL DISPUTE                            |B2      |584           |null    |2018-09-03 20:39:37|2018|9    |Monday     |20  |Part Three|LAWN ST          |42.32701648|-71.10555088|(42.32701648, -71.10555088)|\n",
      "|I182070931     |301         |Robbery                         |ROBBERY - STREET                          |C6      |177           |null    |2018-09-03 20:48:00|2018|9    |Monday     |20  |Part One  |MASSACHUSETTS AVE|42.33152148|-71.07085307|(42.33152148, -71.07085307)|\n",
      "|I182070929     |3301        |Verbal Disputes                 |VERBAL DISPUTE                            |C11     |364           |null    |2018-09-03 20:38:00|2018|9    |Monday     |20  |Part Three|LESLIE ST        |42.29514664|-71.05860832|(42.29514664, -71.05860832)|\n",
      "|I182070928     |3301        |Verbal Disputes                 |VERBAL DISPUTE                            |C6      |913           |null    |2018-09-03 19:55:00|2018|9    |Monday     |19  |Part Three|OCEAN VIEW DR    |42.31957856|-71.04032766|(42.31957856, -71.04032766)|\n",
      "|I182070927     |3114        |Investigate Property            |INVESTIGATE PROPERTY                      |C6      |936           |null    |2018-09-03 20:19:00|2018|9    |Monday     |20  |Part Three|DALESSIO CT      |42.34011469|-71.05339029|(42.34011469, -71.05339029)|\n",
      "|I182070923     |3108        |Fire Related Reports            |FIRE REPORT - HOUSE, BUILDING, ETC.       |D4      |139           |null    |2018-09-03 19:58:00|2018|9    |Monday     |19  |Part Three|MARLBOROUGH ST   |42.3503876 |-71.0878529 |(42.35038760, -71.08785290)|\n",
      "|I182070922     |2647        |Other                           |THREATS TO DO BODILY HARM                 |B3      |429           |null    |2018-09-03 20:39:00|2018|9    |Monday     |20  |Part Two  |WOODROW AVE      |42.28647012|-71.08714661|(42.28647012, -71.08714661)|\n",
      "|I182070921     |3201        |Property Lost                   |PROPERTY - LOST                           |B3      |469           |null    |2018-09-02 14:00:00|2018|9    |Sunday     |14  |Part Three|MULVEY ST        |42.27924052|-71.09667382|(42.27924052, -71.09667382)|\n",
      "|I182070920     |3006        |Medical Assistance              |SICK/INJURED/MEDICAL - PERSON             |null    |              |null    |2018-09-03 19:43:00|2018|9    |Monday     |19  |Part Three|null             |42.35287456|-71.0738297 |(42.35287456, -71.07382970)|\n",
      "|I182070919     |3301        |Verbal Disputes                 |VERBAL DISPUTE                            |C11     |341           |null    |2018-09-03 18:52:00|2018|9    |Monday     |18  |Part Three|STONEHURST ST    |42.30526428|-71.06683755|(42.30526428, -71.06683755)|\n",
      "|I182070918     |3305        |Assembly or Gathering Violations|DEMONSTRATIONS/RIOT                       |D4      |130           |null    |2018-09-03 17:00:00|2018|9    |Monday     |17  |Part Three|HUNTINGTON AVE   |42.34857652|-71.07772012|(42.34857652, -71.07772012)|\n",
      "|I182070917     |2647        |Other                           |THREATS TO DO BODILY HARM                 |B2      |901           |null    |2018-09-03 19:52:00|2018|9    |Monday     |19  |Part Two  |HORADAN WAY      |42.33371742|-71.09665806|(42.33371742, -71.09665806)|\n",
      "|I182070915     |614         |Larceny From Motor Vehicle      |LARCENY THEFT FROM MV - NON-ACCESSORY     |B2      |181           |null    |2018-09-02 18:00:00|2018|9    |Sunday     |18  |Part One  |SHIRLEY ST       |42.3256949 |-71.06816778|(42.32569490, -71.06816778)|\n",
      "+---------------+------------+--------------------------------+------------------------------------------+--------+--------------+--------+-------------------+----+-----+-----------+----+----------+-----------------+-----------+------------+---------------------------+\n",
      "only showing top 20 rows\n",
      "\n"
     ]
    }
   ],
   "source": [
    "# Чтение данных о преступлениях\n",
    "#crime_df = spark.read.csv(args.input_folder + \"/crime.csv\", header = True, inferSchema = True)\n",
    "crime_df = spark.read.csv(\"path/to/input/crime.csv\", header = True, inferSchema = True)\n",
    "crime_df.show(truncate = False)"
   ]
  },
  {
   "cell_type": "code",
   "execution_count": 9,
   "metadata": {},
   "outputs": [
    {
     "name": "stdout",
     "output_type": "stream",
     "text": [
      "root\n",
      " |-- INCIDENT_NUMBER: string (nullable = true)\n",
      " |-- OFFENSE_CODE: integer (nullable = true)\n",
      " |-- OFFENSE_CODE_GROUP: string (nullable = true)\n",
      " |-- OFFENSE_DESCRIPTION: string (nullable = true)\n",
      " |-- DISTRICT: string (nullable = true)\n",
      " |-- REPORTING_AREA: string (nullable = true)\n",
      " |-- SHOOTING: string (nullable = true)\n",
      " |-- OCCURRED_ON_DATE: string (nullable = true)\n",
      " |-- YEAR: integer (nullable = true)\n",
      " |-- MONTH: integer (nullable = true)\n",
      " |-- DAY_OF_WEEK: string (nullable = true)\n",
      " |-- HOUR: integer (nullable = true)\n",
      " |-- UCR_PART: string (nullable = true)\n",
      " |-- STREET: string (nullable = true)\n",
      " |-- Lat: double (nullable = true)\n",
      " |-- Long: double (nullable = true)\n",
      " |-- Location: string (nullable = true)\n",
      "\n"
     ]
    }
   ],
   "source": [
    "# Информация о схеме\n",
    "crime_df.printSchema()"
   ]
  },
  {
   "cell_type": "code",
   "execution_count": 10,
   "metadata": {},
   "outputs": [],
   "source": [
    "# Регистрация DataFrame как временных представлений\n",
    "offense_codes_df.createOrReplaceTempView(\"offense_codes\")\n",
    "crime_df.createOrReplaceTempView(\"crime\")"
   ]
  },
  {
   "cell_type": "code",
   "execution_count": 11,
   "metadata": {},
   "outputs": [
    {
     "name": "stdout",
     "output_type": "stream",
     "text": [
      "+-------------------+------------+\n",
      "|unique_codes_number|codes_number|\n",
      "+-------------------+------------+\n",
      "|                425|         576|\n",
      "+-------------------+------------+\n",
      "\n"
     ]
    }
   ],
   "source": [
    "# Проверка справочника кодов преступлений на наличие дубликатов\n",
    "result = spark.sql(\"\"\"\n",
    "SELECT\n",
    "    COUNT(DISTINCT code)    AS unique_codes_number,\n",
    "    COUNT(code)             AS codes_number\n",
    "FROM offense_codes\n",
    "\"\"\")\n",
    "\n",
    "result.show()"
   ]
  },
  {
   "cell_type": "code",
   "execution_count": 12,
   "metadata": {},
   "outputs": [
    {
     "name": "stdout",
     "output_type": "stream",
     "text": [
      "+----+------------------------------------------+-------------------------------------+\n",
      "|code|name                                      |crime_type                           |\n",
      "+----+------------------------------------------+-------------------------------------+\n",
      "|243 |RAPE - ATTEMPT - SEXUAL ASSAULT W/ OBJECT |RAPE                                 |\n",
      "|540 |BURGLARY - COMMERICAL - FORCE             |BURGLARY                             |\n",
      "|623 |LARCENY SHOPLIFTING $50 TO $199           |LARCENY SHOPLIFTING $50 TO $199      |\n",
      "|1721|FAILURE TO REGISTER AS A SEX OFFENDER     |FAILURE TO REGISTER AS A SEX OFFENDER|\n",
      "|1903|GAMBLING - EQUIP VIOLATIONS               |GAMBLING                             |\n",
      "|3704|M/V ACCIDENT - POLICE VEHICLE             |M/V ACCIDENT                         |\n",
      "|251 |RAPE - COMPLETE - FORCIBLE                |RAPE                                 |\n",
      "|2622|KIDNAPPING/CUSTODIAL KIDNAPPING           |KIDNAPPING/CUSTODIAL KIDNAPPING      |\n",
      "|804 |STALKING                                  |STALKING                             |\n",
      "|2914|VAL - OPERATING W/O AUTHORIZATION LAWFUL  |VAL                                  |\n",
      "|322 |ROBBERY - OTHER WEAPON - RESIDENCE        |ROBBERY                              |\n",
      "|321 |ROBBERY - OTHER WEAPON - MISCELLANEOUS    |ROBBERY                              |\n",
      "|362 |ROBBERY ATTEMPT - OTHER WEAPON - RESIDENCE|ROBBERY ATTEMPT                      |\n",
      "|613 |LARCENY SHOPLIFTING                       |LARCENY SHOPLIFTING                  |\n",
      "|633 |LARCENY SHOPLIFTING UNDER $50             |LARCENY SHOPLIFTING UNDER $50        |\n",
      "|375 |ROBERRY ATTEMPT - UNARMED - CHAIN STORE   |ROBERRY ATTEMPT                      |\n",
      "|1863|DRUGS - POSS CLASS D - MARIJUANA, ETC.    |DRUGS                                |\n",
      "|2606|PRISONER ATTEMPT TO RESCUE                |PRISONER ATTEMPT TO RESCUE           |\n",
      "|211 |RAPE - FEMALE - FORCE                     |RAPE                                 |\n",
      "|530 |B&E NON-RESIDENCE NIGHT - FORCE           |B&E NON-RESIDENCE NIGHT              |\n",
      "+----+------------------------------------------+-------------------------------------+\n",
      "only showing top 20 rows\n",
      "\n"
     ]
    }
   ],
   "source": [
    "# Очистка справочника кодов преступлений от дубликатов + расчёт поля crime_type\n",
    "unique_offense_codes_df = spark.sql(\"\"\"\n",
    "SELECT\n",
    "    code            AS code,\n",
    "    FIRST(name)     AS name,\n",
    "    CASE\n",
    "        WHEN INSTR(FIRST(name), ' -') = 0\n",
    "            THEN FIRST(name)\n",
    "        ELSE\n",
    "            SUBSTR(FIRST(name), 1, INSTR(FIRST(name), ' -') - 1)\n",
    "    END             AS crime_type\n",
    "FROM offense_codes\n",
    "GROUP BY\n",
    "    code\n",
    "\"\"\")\n",
    "\n",
    "unique_offense_codes_df.show(truncate = False)"
   ]
  },
  {
   "cell_type": "code",
   "execution_count": 13,
   "metadata": {},
   "outputs": [],
   "source": [
    "# Регистрация DataFrame как временного представления\n",
    "unique_offense_codes_df.createOrReplaceTempView(\"unique_offense_codes\")"
   ]
  },
  {
   "cell_type": "code",
   "execution_count": 14,
   "metadata": {},
   "outputs": [
    {
     "name": "stdout",
     "output_type": "stream",
     "text": [
      "+--------+\n",
      "|count(1)|\n",
      "+--------+\n",
      "|       0|\n",
      "+--------+\n",
      "\n"
     ]
    }
   ],
   "source": [
    "# Проверка, что у всех преступлений указан код из справочника кодов преступлений\n",
    "result = spark.sql(\"\"\"\n",
    "SELECT\n",
    "    COUNT(*)\n",
    "FROM crime                      C\n",
    "LEFT JOIN unique_offense_codes  UOC     ON UOC.code = C.offense_code\n",
    "WHERE UOC.code IS NULL\n",
    "\"\"\")\n",
    "\n",
    "result.show()"
   ]
  },
  {
   "cell_type": "code",
   "execution_count": 15,
   "metadata": {},
   "outputs": [
    {
     "name": "stdout",
     "output_type": "stream",
     "text": [
      "+--------+------------+------------------+------------------+\n",
      "|district|crimes_total|               lat|               lng|\n",
      "+--------+------------+------------------+------------------+\n",
      "|      C6|       21196|42.212122584455514|-70.85561011772235|\n",
      "|    null|        1583|25.239505193693454|-43.44877438704253|\n",
      "|      B2|       43403| 42.31600367732771|-71.07569930654313|\n",
      "|     C11|       37298| 42.29263740900059|-71.05125995734359|\n",
      "|     E13|       15652|42.309803655709885|-71.09800478878381|\n",
      "|      B3|       31131| 42.28305944520104|-71.07894914185485|\n",
      "|      E5|       11876| 42.19796999447013|-71.00440862434749|\n",
      "|     A15|        5978| 42.17915525091087|-70.74472508958509|\n",
      "|      A7|       12306| 42.36070260499387|-71.00394833039849|\n",
      "|     D14|       18573| 42.34350724510931| -71.1312546172649|\n",
      "|      D4|       36755|42.341242517908626|-71.07725024947001|\n",
      "|     E18|       15746| 42.26268061122596|-71.11891998757693|\n",
      "|      A1|       31020|42.331230772598374|-71.01991881362001|\n",
      "+--------+------------+------------------+------------------+\n",
      "\n"
     ]
    }
   ],
   "source": [
    "# Расчёт метрик crimes_total, lat, lng\n",
    "crimes_total_lat_lng_df = spark.sql(\"\"\"\n",
    "SELECT\n",
    "    district                            AS district,\n",
    "    COUNT(DISTINCT incident_number)     AS crimes_total,\n",
    "    AVG(lat)                            AS lat,\n",
    "    AVG(long)                           AS lng\n",
    "FROM crime\n",
    "GROUP BY\n",
    "    district\n",
    "\"\"\")\n",
    "\n",
    "crimes_total_lat_lng_df.show()"
   ]
  },
  {
   "cell_type": "code",
   "execution_count": 16,
   "metadata": {},
   "outputs": [
    {
     "name": "stdout",
     "output_type": "stream",
     "text": [
      "+--------+--------------+\n",
      "|district|crimes_monthly|\n",
      "+--------+--------------+\n",
      "|      C6|           543|\n",
      "|    null|            37|\n",
      "|      B2|          1130|\n",
      "|     C11|           979|\n",
      "|     E13|           397|\n",
      "|      B3|           800|\n",
      "|      E5|           304|\n",
      "|     A15|           149|\n",
      "|      A7|           315|\n",
      "|     D14|           466|\n",
      "|      D4|           970|\n",
      "|     E18|           399|\n",
      "|      A1|           771|\n",
      "+--------+--------------+\n",
      "\n"
     ]
    }
   ],
   "source": [
    "# Расчёт метрики crimes_monthly\n",
    "crimes_monthly_df = spark.sql(\"\"\"\n",
    "WITH cte AS\n",
    "(\n",
    "    SELECT\n",
    "        district                            AS district,\n",
    "        year                                AS year,\n",
    "        month                               AS month,\n",
    "        COUNT(DISTINCT incident_number)     AS incidents_monthly_count_by_district\n",
    "    FROM crime\n",
    "    GROUP BY\n",
    "        district,\n",
    "        year,\n",
    "        month\n",
    ")\n",
    "SELECT\n",
    "    district                                                        AS district,\n",
    "    PERCENTILE_APPROX(incidents_monthly_count_by_district, 0.5)     AS crimes_monthly\n",
    "FROM cte\n",
    "GROUP BY\n",
    "    district\n",
    "\"\"\")\n",
    "\n",
    "crimes_monthly_df.show()"
   ]
  },
  {
   "cell_type": "code",
   "execution_count": 17,
   "metadata": {},
   "outputs": [
    {
     "name": "stdout",
     "output_type": "stream",
     "text": [
      "+--------+--------------------------------------------------------------------+\n",
      "|district|frequent_crime_types                                                |\n",
      "+--------+--------------------------------------------------------------------+\n",
      "|C6      |SICK/INJURED/MEDICAL, INVESTIGATE PERSON, TOWED MOTOR VEHICLE       |\n",
      "|null    |M/V, M/V ACCIDENT, INVESTIGATE PROPERTY                             |\n",
      "|B2      |VERBAL DISPUTE, M/V, INVESTIGATE PERSON                             |\n",
      "|C11     |M/V, INVESTIGATE PERSON, SICK/INJURED/MEDICAL                       |\n",
      "|E13     |SICK/INJURED/MEDICAL, M/V, INVESTIGATE PERSON                       |\n",
      "|B3      |VERBAL DISPUTE, INVESTIGATE PERSON, VANDALISM                       |\n",
      "|E5      |SICK/INJURED/MEDICAL, INVESTIGATE PERSON, M/V                       |\n",
      "|A15     |INVESTIGATE PERSON, M/V, VANDALISM                                  |\n",
      "|A7      |SICK/INJURED/MEDICAL, INVESTIGATE PERSON, VANDALISM                 |\n",
      "|D14     |TOWED MOTOR VEHICLE, M/V, SICK/INJURED/MEDICAL                      |\n",
      "|D4      |LARCENY SHOPLIFTING, LARCENY THEFT FROM BUILDING, INVESTIGATE PERSON|\n",
      "|E18     |SICK/INJURED/MEDICAL, INVESTIGATE PERSON, M/V                       |\n",
      "|A1      |ASSAULT SIMPLE, PROPERTY, SICK/INJURED/MEDICAL                      |\n",
      "+--------+--------------------------------------------------------------------+\n",
      "\n"
     ]
    }
   ],
   "source": [
    "# Расчёт метрики frequent_crime_types\n",
    "frequent_crime_types_df = spark.sql(\"\"\"\n",
    "WITH cte AS\n",
    "(\n",
    "    SELECT\n",
    "        district                                                                                    AS district,\n",
    "        offense_code                                                                                AS offense_code,\n",
    "        COUNT(DISTINCT incident_number)                                                             AS incidents_count_by_district_and_offense_code,\n",
    "        ROW_NUMBER() OVER (PARTITION BY district ORDER BY COUNT(DISTINCT incident_number) DESC)     AS row_number\n",
    "    FROM crime\n",
    "    GROUP BY\n",
    "        district,\n",
    "        offense_code\n",
    "    ORDER BY\n",
    "        district,\n",
    "        row_number\n",
    ")\n",
    "SELECT\n",
    "    T.district                                      AS district,\n",
    "    CONCAT_WS(', ', COLLECT_LIST(UOC.crime_type))   AS frequent_crime_types\n",
    "FROM cte                            T\n",
    "INNER JOIN unique_offense_codes     UOC     ON UOC.code = T.offense_code\n",
    "WHERE T.row_number <= 3\n",
    "GROUP BY\n",
    "    T.district\n",
    "\"\"\")\n",
    "\n",
    "frequent_crime_types_df.show(truncate = False)"
   ]
  },
  {
   "cell_type": "code",
   "execution_count": 18,
   "metadata": {},
   "outputs": [],
   "source": [
    "# Регистрация DataFrame как временных представлений\n",
    "crimes_total_lat_lng_df.createOrReplaceTempView(\"crimes_total_lat_lng\")\n",
    "crimes_monthly_df.createOrReplaceTempView(\"crimes_monthly\")\n",
    "frequent_crime_types_df.createOrReplaceTempView(\"frequent_crime_types\")"
   ]
  },
  {
   "cell_type": "code",
   "execution_count": 19,
   "metadata": {},
   "outputs": [
    {
     "name": "stdout",
     "output_type": "stream",
     "text": [
      "+--------+------------+--------------+--------------------------------------------------------------------+------------------+------------------+\n",
      "|district|crimes_total|crimes_monthly|frequent_crime_types                                                |lat               |lng               |\n",
      "+--------+------------+--------------+--------------------------------------------------------------------+------------------+------------------+\n",
      "|null    |1583        |37            |M/V, M/V ACCIDENT, INVESTIGATE PROPERTY                             |25.239505193693454|-43.44877438704253|\n",
      "|A1      |31020       |771           |ASSAULT SIMPLE, PROPERTY, SICK/INJURED/MEDICAL                      |42.331230772598374|-71.01991881362001|\n",
      "|A15     |5978        |149           |INVESTIGATE PERSON, M/V, VANDALISM                                  |42.17915525091087 |-70.74472508958509|\n",
      "|A7      |12306       |315           |SICK/INJURED/MEDICAL, INVESTIGATE PERSON, VANDALISM                 |42.36070260499387 |-71.00394833039849|\n",
      "|B2      |43403       |1130          |VERBAL DISPUTE, M/V, INVESTIGATE PERSON                             |42.31600367732771 |-71.07569930654313|\n",
      "|B3      |31131       |800           |VERBAL DISPUTE, INVESTIGATE PERSON, VANDALISM                       |42.28305944520104 |-71.07894914185485|\n",
      "|C11     |37298       |979           |M/V, INVESTIGATE PERSON, SICK/INJURED/MEDICAL                       |42.29263740900059 |-71.05125995734359|\n",
      "|C6      |21196       |543           |SICK/INJURED/MEDICAL, INVESTIGATE PERSON, TOWED MOTOR VEHICLE       |42.212122584455514|-70.85561011772235|\n",
      "|D14     |18573       |466           |TOWED MOTOR VEHICLE, M/V, SICK/INJURED/MEDICAL                      |42.34350724510931 |-71.1312546172649 |\n",
      "|D4      |36755       |970           |LARCENY SHOPLIFTING, LARCENY THEFT FROM BUILDING, INVESTIGATE PERSON|42.341242517908626|-71.07725024947001|\n",
      "|E13     |15652       |397           |SICK/INJURED/MEDICAL, M/V, INVESTIGATE PERSON                       |42.309803655709885|-71.09800478878381|\n",
      "|E18     |15746       |399           |SICK/INJURED/MEDICAL, INVESTIGATE PERSON, M/V                       |42.26268061122596 |-71.11891998757693|\n",
      "|E5      |11876       |304           |SICK/INJURED/MEDICAL, INVESTIGATE PERSON, M/V                       |42.19796999447013 |-71.00440862434749|\n",
      "+--------+------------+--------------+--------------------------------------------------------------------+------------------+------------------+\n",
      "\n"
     ]
    }
   ],
   "source": [
    "# Сборка витрины\n",
    "data_mart_df = spark.sql(\"\"\"\n",
    "SELECT\n",
    "    T1.district,\n",
    "    T1.crimes_total,\n",
    "    T2.crimes_monthly,\n",
    "    T3.frequent_crime_types,\n",
    "    T1.lat,\n",
    "    T1.lng\n",
    "FROM crimes_total_lat_lng           T1\n",
    "INNER JOIN crimes_monthly           T2  ON IFNULL(T2.district, '') = IFNULL(T1.district, '')\n",
    "INNER JOIN frequent_crime_types     T3  ON IFNULL(T3.district, '') = IFNULL(T1.district, '')\n",
    "ORDER BY\n",
    "    T1.district\n",
    "\"\"\")\n",
    "\n",
    "data_mart_df.show(truncate = False)"
   ]
  },
  {
   "cell_type": "code",
   "execution_count": 20,
   "metadata": {},
   "outputs": [],
   "source": [
    "# Сохранение витрины в файл crimes_in_boston_analysis.parquet\n",
    "#data_mart_df.write.mode(\"overwrite\").parquet(args.output_folder + \"/crimes_in_boston_analysis.parquet\")\n",
    "data_mart_df.write.mode(\"overwrite\").parquet(\"path/to/output/crimes_in_boston_analysis.parquet\")"
   ]
  },
  {
   "cell_type": "code",
   "execution_count": 21,
   "metadata": {},
   "outputs": [],
   "source": [
    "# Остановка SparkSession\n",
    "spark.stop()"
   ]
  }
 ],
 "metadata": {
  "kernelspec": {
   "display_name": "Python 3",
   "language": "python",
   "name": "python3"
  },
  "language_info": {
   "codemirror_mode": {
    "name": "ipython",
    "version": 3
   },
   "file_extension": ".py",
   "mimetype": "text/x-python",
   "name": "python",
   "nbconvert_exporter": "python",
   "pygments_lexer": "ipython3",
   "version": "3.8.10"
  }
 },
 "nbformat": 4,
 "nbformat_minor": 2
}
